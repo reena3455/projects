{
 "cells": [
  {
   "cell_type": "code",
   "execution_count": 1,
   "metadata": {},
   "outputs": [],
   "source": [
    "import pandas as pd\n",
    "import matplotlib.pyplot as plt\n",
    "\n",
    "from sklearn.pipeline import Pipeline\n",
    "from sklearn.compose import ColumnTransformer\n",
    "from sklearn.preprocessing import OneHotEncoder\n",
    "from sklearn.model_selection import train_test_split\n",
    "from sklearn.metrics import r2_score, mean_absolute_error, mean_squared_error\n",
    "\n",
    "from sklearn.neighbors import KNeighborsRegressor\n",
    "from sklearn.ensemble import RandomForestRegressor\n",
    "from sklearn.linear_model import LinearRegression, Lasso, Ridge\n",
    "from sklearn.tree import DecisionTreeRegressor, ExtraTreeRegressor"
   ]
  },
  {
   "cell_type": "code",
   "execution_count": 3,
   "metadata": {},
   "outputs": [
    {
     "data": {
      "text/html": [
       "<div>\n",
       "<style scoped>\n",
       "    .dataframe tbody tr th:only-of-type {\n",
       "        vertical-align: middle;\n",
       "    }\n",
       "\n",
       "    .dataframe tbody tr th {\n",
       "        vertical-align: top;\n",
       "    }\n",
       "\n",
       "    .dataframe thead th {\n",
       "        text-align: right;\n",
       "    }\n",
       "</style>\n",
       "<table border=\"1\" class=\"dataframe\">\n",
       "  <thead>\n",
       "    <tr style=\"text-align: right;\">\n",
       "      <th></th>\n",
       "      <th>Store</th>\n",
       "      <th>Weekly_Sales</th>\n",
       "      <th>Holiday_Flag</th>\n",
       "      <th>Temperature</th>\n",
       "      <th>Fuel_Price</th>\n",
       "      <th>CPI</th>\n",
       "      <th>Unemployment</th>\n",
       "      <th>Month</th>\n",
       "      <th>Quarter</th>\n",
       "      <th>Year</th>\n",
       "    </tr>\n",
       "  </thead>\n",
       "  <tbody>\n",
       "    <tr>\n",
       "      <th>0</th>\n",
       "      <td>1</td>\n",
       "      <td>1643690.90</td>\n",
       "      <td>0</td>\n",
       "      <td>42.31</td>\n",
       "      <td>2.572</td>\n",
       "      <td>211.096358</td>\n",
       "      <td>8.106</td>\n",
       "      <td>5</td>\n",
       "      <td>2</td>\n",
       "      <td>2010</td>\n",
       "    </tr>\n",
       "    <tr>\n",
       "      <th>1</th>\n",
       "      <td>1</td>\n",
       "      <td>1641957.44</td>\n",
       "      <td>1</td>\n",
       "      <td>38.51</td>\n",
       "      <td>2.548</td>\n",
       "      <td>211.242170</td>\n",
       "      <td>8.106</td>\n",
       "      <td>12</td>\n",
       "      <td>4</td>\n",
       "      <td>2010</td>\n",
       "    </tr>\n",
       "    <tr>\n",
       "      <th>2</th>\n",
       "      <td>1</td>\n",
       "      <td>1611968.17</td>\n",
       "      <td>0</td>\n",
       "      <td>39.93</td>\n",
       "      <td>2.514</td>\n",
       "      <td>211.289143</td>\n",
       "      <td>8.106</td>\n",
       "      <td>2</td>\n",
       "      <td>1</td>\n",
       "      <td>2010</td>\n",
       "    </tr>\n",
       "    <tr>\n",
       "      <th>3</th>\n",
       "      <td>1</td>\n",
       "      <td>1409727.59</td>\n",
       "      <td>0</td>\n",
       "      <td>46.63</td>\n",
       "      <td>2.561</td>\n",
       "      <td>211.319643</td>\n",
       "      <td>8.106</td>\n",
       "      <td>2</td>\n",
       "      <td>1</td>\n",
       "      <td>2010</td>\n",
       "    </tr>\n",
       "    <tr>\n",
       "      <th>4</th>\n",
       "      <td>1</td>\n",
       "      <td>1554806.68</td>\n",
       "      <td>0</td>\n",
       "      <td>46.50</td>\n",
       "      <td>2.625</td>\n",
       "      <td>211.350143</td>\n",
       "      <td>8.106</td>\n",
       "      <td>5</td>\n",
       "      <td>2</td>\n",
       "      <td>2010</td>\n",
       "    </tr>\n",
       "  </tbody>\n",
       "</table>\n",
       "</div>"
      ],
      "text/plain": [
       "   Store  Weekly_Sales  Holiday_Flag  Temperature  Fuel_Price         CPI  \\\n",
       "0      1    1643690.90             0        42.31       2.572  211.096358   \n",
       "1      1    1641957.44             1        38.51       2.548  211.242170   \n",
       "2      1    1611968.17             0        39.93       2.514  211.289143   \n",
       "3      1    1409727.59             0        46.63       2.561  211.319643   \n",
       "4      1    1554806.68             0        46.50       2.625  211.350143   \n",
       "\n",
       "   Unemployment  Month  Quarter  Year  \n",
       "0         8.106      5        2  2010  \n",
       "1         8.106     12        4  2010  \n",
       "2         8.106      2        1  2010  \n",
       "3         8.106      2        1  2010  \n",
       "4         8.106      5        2  2010  "
      ]
     },
     "execution_count": 3,
     "metadata": {},
     "output_type": "execute_result"
    }
   ],
   "source": [
    "retail_data = pd.read_csv(\"datasets/clean_retail_data.csv\")\n",
    "\n",
    "retail_data.head()"
   ]
  },
  {
   "cell_type": "markdown",
   "metadata": {},
   "source": [
    "#### all the column names except Weekly_Sales"
   ]
  },
  {
   "cell_type": "code",
   "execution_count": 4,
   "metadata": {},
   "outputs": [
    {
     "data": {
      "text/plain": [
       "['Store',\n",
       " 'Holiday_Flag',\n",
       " 'Temperature',\n",
       " 'Fuel_Price',\n",
       " 'CPI',\n",
       " 'Unemployment',\n",
       " 'Month',\n",
       " 'Quarter',\n",
       " 'Year']"
      ]
     },
     "execution_count": 4,
     "metadata": {},
     "output_type": "execute_result"
    }
   ],
   "source": [
    "FEATURES = list(retail_data.columns)\n",
    "\n",
    "FEATURES.remove(\"Weekly_Sales\")\n",
    "\n",
    "FEATURES"
   ]
  },
  {
   "cell_type": "markdown",
   "metadata": {},
   "source": [
    "#### this helper function is used for building the regression model and display the scores and prediction vs actual plot"
   ]
  },
  {
   "cell_type": "code",
   "execution_count": 19,
   "metadata": {},
   "outputs": [],
   "source": [
    "def build_model(transformer, regression_model, target, predictor, dataset):\n",
    "    \n",
    "    X = dataset[predictor]\n",
    "    y = dataset[target]\n",
    "        \n",
    "    X_train, X_test, y_train, y_test = train_test_split(X, y, test_size=0.2)\n",
    "    \n",
    "    pipeline = Pipeline(steps=[(\"transformer\", transformer), (\"model\", regression_model)])\n",
    "    pipeline.fit(X_train, y_train)\n",
    "\n",
    "    y_pred = pipeline.predict(X_test)\n",
    "    \n",
    "    print(\"Training Score: \", pipeline.score(X_train, y_train))\n",
    "    print(\"Testing Score: \", r2_score(y_test, y_pred))\n",
    "    print(\"MAE: \", mean_absolute_error(y_test, y_pred))\n",
    "    print(\"RMSE: \", mean_squared_error(y_test, y_pred, squared=False))\n",
    "    \n",
    "    return {\n",
    "            \"training_score\": pipeline.score(X_train, y_train),\n",
    "            \"testing_score\": r2_score(y_test, y_pred),\n",
    "            \"mae\": mean_absolute_error(y_test, y_pred),\n",
    "            \"rmse\": mean_squared_error(y_test, y_pred, squared=False)\n",
    "            }"
   ]
  },
  {
   "cell_type": "markdown",
   "metadata": {},
   "source": [
    "#### is used to print all the stored scores from result_dict"
   ]
  },
  {
   "cell_type": "code",
   "execution_count": 20,
   "metadata": {},
   "outputs": [],
   "source": [
    "def compare_result():\n",
    "    for key in result_dict:\n",
    "        print(\"Regression: \", key)\n",
    "        print(\"Training Score: \", result_dict[key][\"training_score\"])\n",
    "        print(\"Testing Score: \", result_dict[key][\"testing_score\"])\n",
    "        print(\"MAE: \", result_dict[key][\"mae\"])\n",
    "        print(\"RMSE: \", result_dict[key][\"rmse\"], end=\"\\n{}\\n\".format(50*\"-\"))"
   ]
  },
  {
   "cell_type": "markdown",
   "metadata": {},
   "source": [
    "#### lets find the result with a few selected columns(Store,CPI,Unemployment). Transformer and model are  defined and passed as arguments to build model helper function. "
   ]
  },
  {
   "cell_type": "code",
   "execution_count": 21,
   "metadata": {},
   "outputs": [],
   "source": [
    "result_dict = {}"
   ]
  },
  {
   "cell_type": "code",
   "execution_count": 22,
   "metadata": {},
   "outputs": [
    {
     "name": "stdout",
     "output_type": "stream",
     "text": [
      "Training Score:  0.9192817259978376\n",
      "Testing Score:  0.9124310010844756\n",
      "MAE:  93697.60188323465\n",
      "RMSE:  173880.02647143241\n"
     ]
    }
   ],
   "source": [
    "transformer = ColumnTransformer(transformers=[\n",
    "    (\"one_hot_enc\", OneHotEncoder(sparse=False, drop=\"first\"), [\"Store\"])\n",
    "], remainder=\"passthrough\")\n",
    "\n",
    "linear_reg = LinearRegression()\n",
    "\n",
    "result_dict[\"Linear_Regression_selectedCols\"] = build_model(transformer, linear_reg, \n",
    "                                                            \"Weekly_Sales\", \n",
    "                                                            [\"Store\", \"CPI\", \"Unemployment\"], \n",
    "                                                            retail_data)"
   ]
  },
  {
   "cell_type": "markdown",
   "metadata": {},
   "source": [
    "#### linear regression\n",
    "* finding the results with all the features"
   ]
  },
  {
   "cell_type": "code",
   "execution_count": 24,
   "metadata": {},
   "outputs": [
    {
     "name": "stdout",
     "output_type": "stream",
     "text": [
      "Training Score:  0.929477238919511\n",
      "Testing Score:  0.9383826544438278\n",
      "MAE:  90975.95418312892\n",
      "RMSE:  143343.5316896265\n"
     ]
    }
   ],
   "source": [
    "transformer = ColumnTransformer(transformers=[\n",
    "    (\"one_hot_enc\", OneHotEncoder(sparse=False, drop=\"first\"), [\"Store\", \n",
    "                                                                \"Month\", \n",
    "                                                                \"Quarter\",\n",
    "                                                                \"Year\"])\n",
    "], remainder=\"passthrough\")\n",
    "\n",
    "linear_reg = LinearRegression()\n",
    "\n",
    "result_dict[\"Linear_Regression_allCols\"] = build_model(transformer, linear_reg, \n",
    "                                                       \"Weekly_Sales\", FEATURES, \n",
    "                                                       retail_data)"
   ]
  },
  {
   "cell_type": "markdown",
   "metadata": {},
   "source": [
    "Models' Performance compared. Improvement can be seen. Note that same process is repeated for other models "
   ]
  },
  {
   "cell_type": "code",
   "execution_count": 25,
   "metadata": {},
   "outputs": [
    {
     "name": "stdout",
     "output_type": "stream",
     "text": [
      "Regression:  Linear_Regression_selectedCols\n",
      "Training Score:  0.9192817259978376\n",
      "Testing Score:  0.9124310010844756\n",
      "MAE:  93697.60188323465\n",
      "RMSE:  173880.02647143241\n",
      "--------------------------------------------------\n",
      "Regression:  Linear_Regression_allCols\n",
      "Training Score:  0.929477238919511\n",
      "Testing Score:  0.9383826544438278\n",
      "MAE:  90975.95418312892\n",
      "RMSE:  143343.5316896265\n",
      "--------------------------------------------------\n"
     ]
    }
   ],
   "source": [
    "compare_result()"
   ]
  },
  {
   "cell_type": "markdown",
   "metadata": {},
   "source": [
    "#### ridge regression\n",
    "* https://scikit-learn.org/stable/modules/linear_model.html#ridge-regression-and-classification"
   ]
  },
  {
   "cell_type": "code",
   "execution_count": 26,
   "metadata": {},
   "outputs": [
    {
     "name": "stdout",
     "output_type": "stream",
     "text": [
      "Training Score:  0.9304616317462234\n",
      "Testing Score:  0.929877323464493\n",
      "MAE:  88647.02149935559\n",
      "RMSE:  151740.35441887635\n"
     ]
    }
   ],
   "source": [
    "ridge_reg = Ridge()\n",
    "\n",
    "result_dict[\"Ridge_Regression\"] = build_model(transformer, ridge_reg, \n",
    "                                              \"Weekly_Sales\", FEATURES, \n",
    "                                              retail_data)"
   ]
  },
  {
   "cell_type": "code",
   "execution_count": 27,
   "metadata": {},
   "outputs": [
    {
     "name": "stdout",
     "output_type": "stream",
     "text": [
      "Regression:  Linear_Regression_selectedCols\n",
      "Training Score:  0.9192817259978376\n",
      "Testing Score:  0.9124310010844756\n",
      "MAE:  93697.60188323465\n",
      "RMSE:  173880.02647143241\n",
      "--------------------------------------------------\n",
      "Regression:  Linear_Regression_allCols\n",
      "Training Score:  0.929477238919511\n",
      "Testing Score:  0.9383826544438278\n",
      "MAE:  90975.95418312892\n",
      "RMSE:  143343.5316896265\n",
      "--------------------------------------------------\n",
      "Regression:  Ridge_Regression\n",
      "Training Score:  0.9304616317462234\n",
      "Testing Score:  0.929877323464493\n",
      "MAE:  88647.02149935559\n",
      "RMSE:  151740.35441887635\n",
      "--------------------------------------------------\n"
     ]
    }
   ],
   "source": [
    "compare_result()"
   ]
  },
  {
   "cell_type": "markdown",
   "metadata": {},
   "source": [
    "#### KNeighbors\n",
    "* https://scikit-learn.org/stable/modules/generated/sklearn.neighbors.KNeighborsRegressor.html\n",
    "* kneighbors seems to not give good results"
   ]
  },
  {
   "cell_type": "code",
   "execution_count": 35,
   "metadata": {},
   "outputs": [
    {
     "name": "stdout",
     "output_type": "stream",
     "text": [
      "Training Score:  0.4987786641316373\n",
      "Testing Score:  0.19948686539527816\n",
      "MAE:  411403.4348564232\n",
      "RMSE:  523094.9257857293\n"
     ]
    }
   ],
   "source": [
    "kneighbors_reg = KNeighborsRegressor()\n",
    "\n",
    "result_dict[\"KNeighbors_Regression\"] = build_model(transformer, kneighbors_reg, \n",
    "                                                   \"Weekly_Sales\", FEATURES, \n",
    "                                                   retail_data)"
   ]
  },
  {
   "cell_type": "code",
   "execution_count": 36,
   "metadata": {},
   "outputs": [
    {
     "name": "stdout",
     "output_type": "stream",
     "text": [
      "Regression:  Linear_Regression_selectedCols\n",
      "Training Score:  0.9192817259978376\n",
      "Testing Score:  0.9124310010844756\n",
      "MAE:  93697.60188323465\n",
      "RMSE:  173880.02647143241\n",
      "--------------------------------------------------\n",
      "Regression:  Linear_Regression_allCols\n",
      "Training Score:  0.929477238919511\n",
      "Testing Score:  0.9383826544438278\n",
      "MAE:  90975.95418312892\n",
      "RMSE:  143343.5316896265\n",
      "--------------------------------------------------\n",
      "Regression:  Ridge_Regression\n",
      "Training Score:  0.9304616317462234\n",
      "Testing Score:  0.929877323464493\n",
      "MAE:  88647.02149935559\n",
      "RMSE:  151740.35441887635\n",
      "--------------------------------------------------\n",
      "Regression:  Lasso_Regression\n",
      "Training Score:  0.9350218356028118\n",
      "Testing Score:  0.9153533772525577\n",
      "MAE:  93398.69251851109\n",
      "RMSE:  166108.86921551556\n",
      "--------------------------------------------------\n",
      "Regression:  KNeighbors_Regression\n",
      "Training Score:  0.4987786641316373\n",
      "Testing Score:  0.19948686539527816\n",
      "MAE:  411403.4348564232\n",
      "RMSE:  523094.9257857293\n",
      "--------------------------------------------------\n"
     ]
    }
   ],
   "source": [
    "compare_result()"
   ]
  },
  {
   "cell_type": "markdown",
   "metadata": {},
   "source": [
    "#### decision tree\n",
    "* https://scikit-learn.org/stable/modules/generated/sklearn.tree.DecisionTreeRegressor.html"
   ]
  },
  {
   "cell_type": "code",
   "execution_count": 37,
   "metadata": {},
   "outputs": [
    {
     "name": "stdout",
     "output_type": "stream",
     "text": [
      "Training Score:  1.0\n",
      "Testing Score:  0.8874959099038296\n",
      "MAE:  99946.10291351806\n",
      "RMSE:  194618.95481399278\n"
     ]
    }
   ],
   "source": [
    "decision_tree_reg = DecisionTreeRegressor()\n",
    "\n",
    "result_dict[\"DecisionTree_Regression\"] = build_model(transformer, decision_tree_reg, \n",
    "                                                     \"Weekly_Sales\", FEATURES, \n",
    "                                                     retail_data)"
   ]
  },
  {
   "cell_type": "code",
   "execution_count": 38,
   "metadata": {},
   "outputs": [
    {
     "name": "stdout",
     "output_type": "stream",
     "text": [
      "Regression:  Linear_Regression_selectedCols\n",
      "Training Score:  0.9192817259978376\n",
      "Testing Score:  0.9124310010844756\n",
      "MAE:  93697.60188323465\n",
      "RMSE:  173880.02647143241\n",
      "--------------------------------------------------\n",
      "Regression:  Linear_Regression_allCols\n",
      "Training Score:  0.929477238919511\n",
      "Testing Score:  0.9383826544438278\n",
      "MAE:  90975.95418312892\n",
      "RMSE:  143343.5316896265\n",
      "--------------------------------------------------\n",
      "Regression:  Ridge_Regression\n",
      "Training Score:  0.9304616317462234\n",
      "Testing Score:  0.929877323464493\n",
      "MAE:  88647.02149935559\n",
      "RMSE:  151740.35441887635\n",
      "--------------------------------------------------\n",
      "Regression:  Lasso_Regression\n",
      "Training Score:  0.9350218356028118\n",
      "Testing Score:  0.9153533772525577\n",
      "MAE:  93398.69251851109\n",
      "RMSE:  166108.86921551556\n",
      "--------------------------------------------------\n",
      "Regression:  KNeighbors_Regression\n",
      "Training Score:  0.4987786641316373\n",
      "Testing Score:  0.19948686539527816\n",
      "MAE:  411403.4348564232\n",
      "RMSE:  523094.9257857293\n",
      "--------------------------------------------------\n",
      "Regression:  DecisionTree_Regression\n",
      "Training Score:  1.0\n",
      "Testing Score:  0.8874959099038296\n",
      "MAE:  99946.10291351806\n",
      "RMSE:  194618.95481399278\n",
      "--------------------------------------------------\n"
     ]
    }
   ],
   "source": [
    "compare_result()"
   ]
  },
  {
   "cell_type": "markdown",
   "metadata": {},
   "source": [
    "#### extratree\n",
    "* https://scikit-learn.org/stable/modules/generated/sklearn.tree.ExtraTreeRegressor.html"
   ]
  },
  {
   "cell_type": "code",
   "execution_count": 39,
   "metadata": {},
   "outputs": [
    {
     "name": "stdout",
     "output_type": "stream",
     "text": [
      "Training Score:  1.0\n",
      "Testing Score:  0.8919412201138771\n",
      "MAE:  99164.30125104953\n",
      "RMSE:  189105.57977602066\n"
     ]
    }
   ],
   "source": [
    "extra_tree_reg = ExtraTreeRegressor()\n",
    "\n",
    "result_dict[\"ExtraTreeRegressor_Regression\"] = build_model(transformer, extra_tree_reg, \n",
    "                                                           \"Weekly_Sales\", FEATURES, \n",
    "                                                           retail_data)"
   ]
  },
  {
   "cell_type": "code",
   "execution_count": 40,
   "metadata": {},
   "outputs": [
    {
     "name": "stdout",
     "output_type": "stream",
     "text": [
      "Regression:  Linear_Regression_selectedCols\n",
      "Training Score:  0.9192817259978376\n",
      "Testing Score:  0.9124310010844756\n",
      "MAE:  93697.60188323465\n",
      "RMSE:  173880.02647143241\n",
      "--------------------------------------------------\n",
      "Regression:  Linear_Regression_allCols\n",
      "Training Score:  0.929477238919511\n",
      "Testing Score:  0.9383826544438278\n",
      "MAE:  90975.95418312892\n",
      "RMSE:  143343.5316896265\n",
      "--------------------------------------------------\n",
      "Regression:  Ridge_Regression\n",
      "Training Score:  0.9304616317462234\n",
      "Testing Score:  0.929877323464493\n",
      "MAE:  88647.02149935559\n",
      "RMSE:  151740.35441887635\n",
      "--------------------------------------------------\n",
      "Regression:  Lasso_Regression\n",
      "Training Score:  0.9350218356028118\n",
      "Testing Score:  0.9153533772525577\n",
      "MAE:  93398.69251851109\n",
      "RMSE:  166108.86921551556\n",
      "--------------------------------------------------\n",
      "Regression:  KNeighbors_Regression\n",
      "Training Score:  0.4987786641316373\n",
      "Testing Score:  0.19948686539527816\n",
      "MAE:  411403.4348564232\n",
      "RMSE:  523094.9257857293\n",
      "--------------------------------------------------\n",
      "Regression:  DecisionTree_Regression\n",
      "Training Score:  1.0\n",
      "Testing Score:  0.8874959099038296\n",
      "MAE:  99946.10291351806\n",
      "RMSE:  194618.95481399278\n",
      "--------------------------------------------------\n",
      "Regression:  ExtraTreeRegressor_Regression\n",
      "Training Score:  1.0\n",
      "Testing Score:  0.8919412201138771\n",
      "MAE:  99164.30125104953\n",
      "RMSE:  189105.57977602066\n",
      "--------------------------------------------------\n"
     ]
    }
   ],
   "source": [
    "compare_result()"
   ]
  },
  {
   "cell_type": "markdown",
   "metadata": {},
   "source": [
    "#### random forest regressor\n",
    "* https://scikit-learn.org/stable/modules/generated/sklearn.ensemble.RandomForestRegressor.html"
   ]
  },
  {
   "cell_type": "code",
   "execution_count": 42,
   "metadata": {},
   "outputs": [
    {
     "name": "stdout",
     "output_type": "stream",
     "text": [
      "Training Score:  0.9904818319106434\n",
      "Testing Score:  0.9297535366010916\n",
      "MAE:  77132.65999790088\n",
      "RMSE:  151925.02549352686\n"
     ]
    }
   ],
   "source": [
    "random_forest_reg = RandomForestRegressor()\n",
    "\n",
    "result_dict[\"RandomForest_Regression\"] = build_model(transformer, random_forest_reg, \n",
    "                                                     \"Weekly_Sales\", FEATURES, \n",
    "                                                     retail_data)"
   ]
  },
  {
   "cell_type": "markdown",
   "metadata": {},
   "source": [
    "All models's performances are ready for comparison. Linear Regression with all features seems to have best performance with highest Testing score and Lowest RMSE values.K-neighbours performance is worst.Reason may be due to unscaled continuous variables."
   ]
  },
  {
   "cell_type": "code",
   "execution_count": 43,
   "metadata": {},
   "outputs": [
    {
     "name": "stdout",
     "output_type": "stream",
     "text": [
      "Regression:  Linear_Regression_selectedCols\n",
      "Training Score:  0.9192817259978376\n",
      "Testing Score:  0.9124310010844756\n",
      "MAE:  93697.60188323465\n",
      "RMSE:  173880.02647143241\n",
      "--------------------------------------------------\n",
      "Regression:  Linear_Regression_allCols\n",
      "Training Score:  0.929477238919511\n",
      "Testing Score:  0.9383826544438278\n",
      "MAE:  90975.95418312892\n",
      "RMSE:  143343.5316896265\n",
      "--------------------------------------------------\n",
      "Regression:  Ridge_Regression\n",
      "Training Score:  0.9304616317462234\n",
      "Testing Score:  0.929877323464493\n",
      "MAE:  88647.02149935559\n",
      "RMSE:  151740.35441887635\n",
      "--------------------------------------------------\n",
      "Regression:  Lasso_Regression\n",
      "Training Score:  0.9350218356028118\n",
      "Testing Score:  0.9153533772525577\n",
      "MAE:  93398.69251851109\n",
      "RMSE:  166108.86921551556\n",
      "--------------------------------------------------\n",
      "Regression:  KNeighbors_Regression\n",
      "Training Score:  0.4987786641316373\n",
      "Testing Score:  0.19948686539527816\n",
      "MAE:  411403.4348564232\n",
      "RMSE:  523094.9257857293\n",
      "--------------------------------------------------\n",
      "Regression:  DecisionTree_Regression\n",
      "Training Score:  1.0\n",
      "Testing Score:  0.8874959099038296\n",
      "MAE:  99946.10291351806\n",
      "RMSE:  194618.95481399278\n",
      "--------------------------------------------------\n",
      "Regression:  ExtraTreeRegressor_Regression\n",
      "Training Score:  1.0\n",
      "Testing Score:  0.8919412201138771\n",
      "MAE:  99164.30125104953\n",
      "RMSE:  189105.57977602066\n",
      "--------------------------------------------------\n",
      "Regression:  RandomForest_Regression\n",
      "Training Score:  0.9904818319106434\n",
      "Testing Score:  0.9297535366010916\n",
      "MAE:  77132.65999790088\n",
      "RMSE:  151925.02549352686\n",
      "--------------------------------------------------\n"
     ]
    }
   ],
   "source": [
    "compare_result()"
   ]
  },
  {
   "cell_type": "markdown",
   "metadata": {},
   "source": [
    "#### Here We are showing the process to obtain feature importances using random forest. \n",
    "https://scikit-learn.org/stable/auto_examples/ensemble/plot_forest_importances.html\n",
    "\n",
    "Feature importances help with model explainability"
   ]
  },
  {
   "cell_type": "code",
   "execution_count": 50,
   "metadata": {},
   "outputs": [],
   "source": [
    "X = retail_data.drop(columns=[\"Weekly_Sales\"])\n",
    "y = retail_data[\"Weekly_Sales\"]\n",
    "\n",
    "X_train, X_test, y_train, y_test = train_test_split(X, y, test_size=0.3)\n",
    "\n",
    "random_forest_reg = RandomForestRegressor()\n",
    "\n",
    "pipeline = Pipeline(steps=[(\"transformer\", transformer), (\"model\", random_forest_reg)])"
   ]
  },
  {
   "cell_type": "code",
   "execution_count": 51,
   "metadata": {},
   "outputs": [
    {
     "name": "stdout",
     "output_type": "stream",
     "text": [
      "Training Score:  0.9900418451176138\n",
      "Testing Score:  0.9358314795464694\n"
     ]
    }
   ],
   "source": [
    "pipeline.fit(X_train, y_train)\n",
    "\n",
    "print(\"Training Score: \", pipeline.score(X_train, y_train))\n",
    "\n",
    "y_pred = pipeline.predict(X_test)\n",
    "print(\"Testing Score: \", r2_score(y_test, y_pred))"
   ]
  },
  {
   "cell_type": "markdown",
   "metadata": {},
   "source": [
    "#### all the feature importance scores of all the columns"
   ]
  },
  {
   "cell_type": "code",
   "execution_count": 52,
   "metadata": {},
   "outputs": [
    {
     "data": {
      "text/plain": [
       "array([7.23306995e-02, 7.71472468e-03, 8.07768537e-02, 9.31856015e-03,\n",
       "       3.43872063e-02, 1.23907978e-03, 2.70531229e-03, 8.14478603e-03,\n",
       "       7.22592151e-02, 2.36005564e-02, 8.32665603e-05, 7.51510512e-02,\n",
       "       8.01044026e-02, 8.26586100e-03, 1.41085753e-03, 6.99488272e-04,\n",
       "       3.22057140e-03, 2.61372614e-02, 8.82733610e-02, 7.28281349e-03,\n",
       "       3.48456446e-04, 2.00731753e-02, 2.29357526e-02, 3.13200239e-03,\n",
       "       6.51960813e-05, 5.71230768e-02, 7.57660444e-04, 8.09699863e-03,\n",
       "       7.46361455e-03, 2.54305708e-02, 1.32954933e-02, 1.48509942e-02,\n",
       "       5.92814839e-04, 5.50752784e-04, 7.35926999e-03, 9.26885330e-03,\n",
       "       2.77787869e-03, 2.74963261e-02, 1.82248561e-05, 1.73546223e-02,\n",
       "       7.72585709e-03, 1.58101905e-03, 1.54316512e-02, 9.08987315e-04,\n",
       "       6.97385935e-04, 2.96488387e-04, 2.65972922e-04, 1.67866106e-04,\n",
       "       3.47795676e-04, 1.88693457e-04, 2.00635442e-04, 4.97109267e-04,\n",
       "       4.38360808e-04, 2.10355870e-03, 1.33858929e-02, 4.22558166e-04,\n",
       "       4.10491173e-04, 1.82145926e-03, 1.16982845e-03, 5.94059958e-04,\n",
       "       6.26212555e-03, 1.99906653e-02, 1.31346313e-02, 4.73344253e-02,\n",
       "       2.25248186e-02])"
      ]
     },
     "execution_count": 52,
     "metadata": {},
     "output_type": "execute_result"
    }
   ],
   "source": [
    "pipeline[\"model\"].feature_importances_"
   ]
  },
  {
   "cell_type": "markdown",
   "metadata": {},
   "source": [
    "Feature importance scores are shown with features and their corresponding scores in a Dataframe"
   ]
  },
  {
   "cell_type": "code",
   "execution_count": 53,
   "metadata": {},
   "outputs": [
    {
     "data": {
      "text/html": [
       "<div>\n",
       "<style scoped>\n",
       "    .dataframe tbody tr th:only-of-type {\n",
       "        vertical-align: middle;\n",
       "    }\n",
       "\n",
       "    .dataframe tbody tr th {\n",
       "        vertical-align: top;\n",
       "    }\n",
       "\n",
       "    .dataframe thead th {\n",
       "        text-align: right;\n",
       "    }\n",
       "</style>\n",
       "<table border=\"1\" class=\"dataframe\">\n",
       "  <thead>\n",
       "    <tr style=\"text-align: right;\">\n",
       "      <th></th>\n",
       "      <th>Score</th>\n",
       "    </tr>\n",
       "  </thead>\n",
       "  <tbody>\n",
       "    <tr>\n",
       "      <th>one_hot_enc__Store_2</th>\n",
       "      <td>0.072331</td>\n",
       "    </tr>\n",
       "    <tr>\n",
       "      <th>one_hot_enc__Store_3</th>\n",
       "      <td>0.007715</td>\n",
       "    </tr>\n",
       "    <tr>\n",
       "      <th>one_hot_enc__Store_4</th>\n",
       "      <td>0.080777</td>\n",
       "    </tr>\n",
       "    <tr>\n",
       "      <th>one_hot_enc__Store_5</th>\n",
       "      <td>0.009319</td>\n",
       "    </tr>\n",
       "    <tr>\n",
       "      <th>one_hot_enc__Store_6</th>\n",
       "      <td>0.034387</td>\n",
       "    </tr>\n",
       "    <tr>\n",
       "      <th>...</th>\n",
       "      <td>...</td>\n",
       "    </tr>\n",
       "    <tr>\n",
       "      <th>remainder__Holiday_Flag</th>\n",
       "      <td>0.006262</td>\n",
       "    </tr>\n",
       "    <tr>\n",
       "      <th>remainder__Temperature</th>\n",
       "      <td>0.019991</td>\n",
       "    </tr>\n",
       "    <tr>\n",
       "      <th>remainder__Fuel_Price</th>\n",
       "      <td>0.013135</td>\n",
       "    </tr>\n",
       "    <tr>\n",
       "      <th>remainder__CPI</th>\n",
       "      <td>0.047334</td>\n",
       "    </tr>\n",
       "    <tr>\n",
       "      <th>remainder__Unemployment</th>\n",
       "      <td>0.022525</td>\n",
       "    </tr>\n",
       "  </tbody>\n",
       "</table>\n",
       "<p>65 rows × 1 columns</p>\n",
       "</div>"
      ],
      "text/plain": [
       "                            Score\n",
       "one_hot_enc__Store_2     0.072331\n",
       "one_hot_enc__Store_3     0.007715\n",
       "one_hot_enc__Store_4     0.080777\n",
       "one_hot_enc__Store_5     0.009319\n",
       "one_hot_enc__Store_6     0.034387\n",
       "...                           ...\n",
       "remainder__Holiday_Flag  0.006262\n",
       "remainder__Temperature   0.019991\n",
       "remainder__Fuel_Price    0.013135\n",
       "remainder__CPI           0.047334\n",
       "remainder__Unemployment  0.022525\n",
       "\n",
       "[65 rows x 1 columns]"
      ]
     },
     "execution_count": 53,
     "metadata": {},
     "output_type": "execute_result"
    }
   ],
   "source": [
    "feature_imp = pd.DataFrame(pipeline[\"model\"].feature_importances_, \n",
    "                           index=pipeline[\"transformer\"].get_feature_names_out(),\n",
    "                           columns=[\"Score\"])\n",
    "\n",
    "feature_imp"
   ]
  },
  {
   "cell_type": "markdown",
   "metadata": {},
   "source": [
    "#### ploting each feature importance\n",
    "* As we have seen earlier High selling stores 20 ,14,4,... has more importance followed by CPI"
   ]
  },
  {
   "cell_type": "code",
   "execution_count": 54,
   "metadata": {},
   "outputs": [
    {
     "data": {
      "image/png": "[encoded data removed]",
      "text/plain": [
       "<Figure size 864x1008 with 1 Axes>"
      ]
     },
     "metadata": {
      "needs_background": "light"
     },
     "output_type": "display_data"
    }
   ],
   "source": [
    "plt.figure(figsize=[12, 14])\n",
    "\n",
    "feature_imp[\"Score\"].sort_values().plot.barh()\n",
    "\n",
    "plt.xlabel(\"Feature Importance\")\n",
    "plt.show()"
   ]
  },
  {
   "cell_type": "code",
   "execution_count": null,
   "metadata": {},
   "outputs": [],
   "source": []
  },
  {
   "cell_type": "code",
   "execution_count": null,
   "metadata": {},
   "outputs": [],
   "source": []
  },
  {
   "cell_type": "code",
   "execution_count": null,
   "metadata": {},
   "outputs": [],
   "source": []
  },
  {
   "cell_type": "code",
   "execution_count": null,
   "metadata": {},
   "outputs": [],
   "source": []
  },
  {
   "cell_type": "code",
   "execution_count": null,
   "metadata": {},
   "outputs": [],
   "source": []
  }
 ],
 "metadata": {
  "kernelspec": {
   "display_name": "Python 3",
   "language": "python",
   "name": "python3"
  },
  "language_info": {
   "codemirror_mode": {
    "name": "ipython",
    "version": 3
   },
   "file_extension": ".py",
   "mimetype": "text/x-python",
   "name": "python",
   "nbconvert_exporter": "python",
   "pygments_lexer": "ipython3",
   "version": "3.8.5"
  }
 },
 "nbformat": 4,
 "nbformat_minor": 5
}
